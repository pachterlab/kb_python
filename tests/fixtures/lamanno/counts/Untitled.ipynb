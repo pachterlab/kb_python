{
 "cells": [
  {
   "cell_type": "code",
   "execution_count": 5,
   "metadata": {},
   "outputs": [],
   "source": [
    "import anndata\n",
    "import pandas as pd\n",
    "import scipy.io\n",
    "def import_matrix_as_anndata(matrix_path, barcodes_path, genes_path):\n",
    "    df_barcodes = pd.read_csv(\n",
    "        barcodes_path, index_col=0, header=None, names=['barcode']\n",
    "    )\n",
    "    df_genes = pd.read_csv(\n",
    "        genes_path, header=None, index_col=0, names=['gene_id'], sep='\\t'\n",
    "    )\n",
    "    df_genes.index = df_genes.index.str.split('.').str[\n",
    "        0]  # slice off version number\n",
    "    return anndata.AnnData(\n",
    "        X=scipy.io.mmread(matrix_path).tocsr(), obs=df_barcodes, var=df_genes\n",
    "    )\n"
   ]
  },
  {
   "cell_type": "code",
   "execution_count": 6,
   "metadata": {},
   "outputs": [],
   "source": [
    "adata_spliced = import_matrix_as_anndata('spliced.mtx', 'spliced.barcodes.txt', 'spliced.genes.txt')\n",
    "adata_unspliced = import_matrix_as_anndata('unspliced.mtx', 'unspliced.barcodes.txt', 'unspliced.genes.txt')"
   ]
  },
  {
   "cell_type": "code",
   "execution_count": 7,
   "metadata": {},
   "outputs": [
    {
     "name": "stdout",
     "output_type": "stream",
     "text": [
      "AnnData object with n_obs × n_vars = 278 × 17 \n",
      "AnnData object with n_obs × n_vars = 278 × 17 \n"
     ]
    }
   ],
   "source": [
    "print(adata_spliced)\n",
    "print(adata_unspliced)"
   ]
  },
  {
   "cell_type": "code",
   "execution_count": 8,
   "metadata": {},
   "outputs": [],
   "source": [
    "t2g = pd.read_csv('../../t2g.txt', header=None, sep='\\t', names=['tid', 'gid', 'gene'])"
   ]
  },
  {
   "cell_type": "code",
   "execution_count": 17,
   "metadata": {},
   "outputs": [
    {
     "data": {
      "text/plain": [
       "Index(['AAACGGGAGTCATGCT', 'AAAGCAAGTTCCTCCA', 'AAATGCCGTAGCGCTC',\n",
       "       'AACACGTGTATTAGCC', 'AACCATGGTTTAAGCC', 'AACCATGGTTTGGGCC',\n",
       "       'AAGACCTAGATGCGAC', 'AAGCCGCGTTACGACT', 'AAGGAGCAGGCAGGTT',\n",
       "       'AAGGCAGAGTAGCGGT',\n",
       "       ...\n",
       "       'TTGCCGTAGAAGGGTA', 'TTGCCGTGTATCGCAT', 'TTGCGTCCAGGGTATG',\n",
       "       'TTGGAACAGAATGTGT', 'TTGTAGGAGGACAGCT', 'TTGTAGGGTCTAGTCA',\n",
       "       'TTTACTGAGTACTTGC', 'TTTATGCCACCTCGTT', 'TTTGCGCCACGGACAA',\n",
       "       'TTTGGTTTCCGTACAA'],\n",
       "      dtype='object', name='barcode', length=278)"
      ]
     },
     "execution_count": 17,
     "metadata": {},
     "output_type": "execute_result"
    }
   ],
   "source": [
    "adata_spliced.obs.index"
   ]
  },
  {
   "cell_type": "code",
   "execution_count": 18,
   "metadata": {},
   "outputs": [],
   "source": [
    "adata_spliced = adata_spliced[adata_spliced.obs.index.isin(adata_unspliced.obs.index)]\n",
    "adata_unspliced = adata_unspliced[adata_unspliced.obs.index.isin(adata_spliced.obs.index)]"
   ]
  },
  {
   "cell_type": "code",
   "execution_count": 19,
   "metadata": {},
   "outputs": [],
   "source": [
    "adata_spliced = adata_spliced[:, adata_spliced.var.index.isin(adata_unspliced.var.index)]\n",
    "adata_unspliced = adata_unspliced[:, adata_unspliced.var.index.isin(adata_spliced.var.index)]"
   ]
  },
  {
   "cell_type": "code",
   "execution_count": 20,
   "metadata": {},
   "outputs": [
    {
     "data": {
      "text/plain": [
       "View of AnnData object with n_obs × n_vars = 278 × 17 "
      ]
     },
     "execution_count": 20,
     "metadata": {},
     "output_type": "execute_result"
    }
   ],
   "source": [
    "adata_spliced"
   ]
  },
  {
   "cell_type": "code",
   "execution_count": 21,
   "metadata": {},
   "outputs": [],
   "source": [
    "adata_spliced.layers[\"spliced\"] = adata_spliced.X\n",
    "adata_spliced.layers[\"unspliced\"] = adata_unspliced.X"
   ]
  },
  {
   "cell_type": "code",
   "execution_count": 22,
   "metadata": {},
   "outputs": [
    {
     "data": {
      "text/plain": [
       "AnnData object with n_obs × n_vars = 278 × 17 \n",
       "    layers: 'spliced', 'unspliced'"
      ]
     },
     "execution_count": 22,
     "metadata": {},
     "output_type": "execute_result"
    }
   ],
   "source": [
    "adata_spliced"
   ]
  },
  {
   "cell_type": "code",
   "execution_count": null,
   "metadata": {},
   "outputs": [],
   "source": [
    "adata_spliced.write"
   ]
  }
 ],
 "metadata": {
  "kernelspec": {
   "display_name": "Python 3",
   "language": "python",
   "name": "python3"
  },
  "language_info": {
   "codemirror_mode": {
    "name": "ipython",
    "version": 3
   },
   "file_extension": ".py",
   "mimetype": "text/x-python",
   "name": "python",
   "nbconvert_exporter": "python",
   "pygments_lexer": "ipython3",
   "version": "3.7.4"
  }
 },
 "nbformat": 4,
 "nbformat_minor": 2
}
